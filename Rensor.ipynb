{
  "nbformat": 4,
  "nbformat_minor": 0,
  "metadata": {
    "colab": {
      "provenance": [],
      "gpuType": "T4",
      "authorship_tag": "ABX9TyNpTDMQv1J1gXh4O/Jp/Z2w",
      "include_colab_link": true
    },
    "kernelspec": {
      "name": "python3",
      "display_name": "Python 3"
    },
    "language_info": {
      "name": "python"
    },
    "accelerator": "GPU"
  },
  "cells": [
    {
      "cell_type": "markdown",
      "metadata": {
        "id": "view-in-github",
        "colab_type": "text"
      },
      "source": [
        "<a href=\"https://colab.research.google.com/github/ehristoforu/stable-diffusion/blob/main/Rensor.ipynb\" target=\"_parent\"><img src=\"https://colab.research.google.com/assets/colab-badge.svg\" alt=\"Open In Colab\"/></a>"
      ]
    },
    {
      "cell_type": "markdown",
      "source": [
        "# Rensor - Stable Diffusion UI\n",
        "\n",
        "<img src=\"https://cdn-lfs-us-1.huggingface.co/repos/29/e5/29e5d5d12e43d8f40183ecb674b071629dce9325a1423c735c91f1274f637a61/ce6e26a7a9615f2161f89c5e10264f8f1a6d3ec7ab1872b0206529e47ee4c05b?response-content-disposition=inline%3B+filename*%3DUTF-8%27%27preview.png%3B+filename%3D%22preview.png%22%3B&response-content-type=image%2Fpng&Expires=1706114437&Policy=eyJTdGF0ZW1lbnQiOlt7IkNvbmRpdGlvbiI6eyJEYXRlTGVzc1RoYW4iOnsiQVdTOkVwb2NoVGltZSI6MTcwNjExNDQzN319LCJSZXNvdXJjZSI6Imh0dHBzOi8vY2RuLWxmcy11cy0xLmh1Z2dpbmdmYWNlLmNvL3JlcG9zLzI5L2U1LzI5ZTVkNWQxMmU0M2Q4ZjQwMTgzZWNiNjc0YjA3MTYyOWRjZTkzMjVhMTQyM2M3MzVjOTFmMTI3NGY2MzdhNjEvY2U2ZTI2YTdhOTYxNWYyMTYxZjg5YzVlMTAyNjRmOGYxYTZkM2VjN2FiMTg3MmIwMjA2NTI5ZTQ3ZWU0YzA1Yj9yZXNwb25zZS1jb250ZW50LWRpc3Bvc2l0aW9uPSomcmVzcG9uc2UtY29udGVudC10eXBlPSoifV19&Signature=Bzp4s%7EYTDflIVwZc5vbSoCI%7EMwH4DQxzOnIfmx%7EnBkT7BwX66XCPptW5eEKOGccsohWApNw0XALQVKgH75eSLW7zr0s7X1-vmpYX4TYt2t7PEilbYvrB2vpf3Pf9Ak9kjfxPGN5pZqq%7ECVBBucQxHAxsAMRk%7E98PEqfBzFOxsR%7EdoRzfKlRHrstvj0HjIuLHGsWk163I2hyPvhnR5ebDs90tqyxIX5h%7EhV28u1PumR-InD-oY2Wxvzvmsn-jWpUf5kkY5BwL3Dfntz3Bj-fEkHH542YSC2vuwbYGGPAQ2ccYPZ2jRplnSUsuMEnCcZbi0evThSg0oHGDp9edAtAXLw__&Key-Pair-Id=KCD77M1F0VK2B\" alt=\"Stable Diffusion - Rensor Image\" width=\"50%\" height=\"auto\">\n",
        "\n",
        "## Advantages:\n",
        "- Very fast inference\n",
        "- Minimalist & user-friendly interface\n",
        "- Local install"
      ],
      "metadata": {
        "id": "DX_7JXYY5Pog"
      }
    },
    {
      "cell_type": "code",
      "execution_count": null,
      "metadata": {
        "cellView": "form",
        "id": "Msm3Gocj5Duq"
      },
      "outputs": [],
      "source": [
        "#@title Install & Run UI\n",
        "\n",
        "!git lfs install\n",
        "!git clone https://huggingface.co/spaces/ehristoforu/Rensor\n",
        "\n",
        "%cd /content/Rensor\n",
        "\n",
        "!pip install -q -r pip/requirements.txt\n",
        "\n",
        "!python requests/request-to-model-gpu.py\n",
        "\n",
        "!python app-colab.py"
      ]
    }
  ]
}